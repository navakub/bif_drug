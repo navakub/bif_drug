{
 "cells": [
  {
   "cell_type": "code",
   "execution_count": 4,
   "metadata": {},
   "outputs": [
    {
     "name": "stdout",
     "output_type": "stream",
     "text": [
      "Requirement already satisfied: chembl_webresource_client in c:\\users\\windows\\appdata\\local\\programs\\python\\python310\\lib\\site-packages (0.10.9)\n",
      "Requirement already satisfied: urllib3 in c:\\users\\windows\\appdata\\local\\programs\\python\\python310\\lib\\site-packages (from chembl_webresource_client) (1.26.12)\n",
      "Requirement already satisfied: requests>=2.18.4 in c:\\users\\windows\\appdata\\local\\programs\\python\\python310\\lib\\site-packages (from chembl_webresource_client) (2.28.1)\n",
      "Requirement already satisfied: requests-cache~=1.2 in c:\\users\\windows\\appdata\\local\\programs\\python\\python310\\lib\\site-packages (from chembl_webresource_client) (1.2.0)\n",
      "Requirement already satisfied: easydict in c:\\users\\windows\\appdata\\local\\programs\\python\\python310\\lib\\site-packages (from chembl_webresource_client) (1.13)\n",
      "Requirement already satisfied: charset-normalizer<3,>=2 in c:\\users\\windows\\appdata\\local\\programs\\python\\python310\\lib\\site-packages (from requests>=2.18.4->chembl_webresource_client) (2.1.1)\n",
      "Requirement already satisfied: idna<4,>=2.5 in c:\\users\\windows\\appdata\\local\\programs\\python\\python310\\lib\\site-packages (from requests>=2.18.4->chembl_webresource_client) (3.3)\n",
      "Requirement already satisfied: certifi>=2017.4.17 in c:\\users\\windows\\appdata\\local\\programs\\python\\python310\\lib\\site-packages (from requests>=2.18.4->chembl_webresource_client) (2022.6.15)\n",
      "Requirement already satisfied: attrs>=21.2 in c:\\users\\windows\\appdata\\local\\programs\\python\\python310\\lib\\site-packages (from requests-cache~=1.2->chembl_webresource_client) (23.2.0)\n",
      "Requirement already satisfied: cattrs>=22.2 in c:\\users\\windows\\appdata\\local\\programs\\python\\python310\\lib\\site-packages (from requests-cache~=1.2->chembl_webresource_client) (23.2.3)\n",
      "Requirement already satisfied: platformdirs>=2.5 in c:\\users\\windows\\appdata\\local\\programs\\python\\python310\\lib\\site-packages (from requests-cache~=1.2->chembl_webresource_client) (4.2.0)\n",
      "Requirement already satisfied: url-normalize>=1.4 in c:\\users\\windows\\appdata\\local\\programs\\python\\python310\\lib\\site-packages (from requests-cache~=1.2->chembl_webresource_client) (1.4.3)\n",
      "Requirement already satisfied: exceptiongroup>=1.1.1 in c:\\users\\windows\\appdata\\local\\programs\\python\\python310\\lib\\site-packages (from cattrs>=22.2->requests-cache~=1.2->chembl_webresource_client) (1.2.1)\n",
      "Requirement already satisfied: typing-extensions!=4.6.3,>=4.1.0 in c:\\users\\windows\\appdata\\local\\programs\\python\\python310\\lib\\site-packages (from cattrs>=22.2->requests-cache~=1.2->chembl_webresource_client) (4.9.0)\n",
      "Requirement already satisfied: six in c:\\users\\windows\\appdata\\local\\programs\\python\\python310\\lib\\site-packages (from url-normalize>=1.4->requests-cache~=1.2->chembl_webresource_client) (1.16.0)\n"
     ]
    }
   ],
   "source": [
    "! pip install chembl_webresource_client"
   ]
  },
  {
   "cell_type": "markdown",
   "metadata": {},
   "source": [
    "### import libraries"
   ]
  },
  {
   "cell_type": "code",
   "execution_count": 5,
   "metadata": {},
   "outputs": [],
   "source": [
    "import pandas as pd\n",
    "from chembl_webresource_client.new_client import new_client"
   ]
  },
  {
   "cell_type": "markdown",
   "metadata": {},
   "source": [
    "### search for target protein "
   ]
  },
  {
   "cell_type": "code",
   "execution_count": 43,
   "metadata": {},
   "outputs": [
    {
     "data": {
      "text/html": [
       "<div>\n",
       "<style scoped>\n",
       "    .dataframe tbody tr th:only-of-type {\n",
       "        vertical-align: middle;\n",
       "    }\n",
       "\n",
       "    .dataframe tbody tr th {\n",
       "        vertical-align: top;\n",
       "    }\n",
       "\n",
       "    .dataframe thead th {\n",
       "        text-align: right;\n",
       "    }\n",
       "</style>\n",
       "<table border=\"1\" class=\"dataframe\">\n",
       "  <thead>\n",
       "    <tr style=\"text-align: right;\">\n",
       "      <th></th>\n",
       "      <th>cross_references</th>\n",
       "      <th>organism</th>\n",
       "      <th>pref_name</th>\n",
       "      <th>score</th>\n",
       "      <th>species_group_flag</th>\n",
       "      <th>target_chembl_id</th>\n",
       "      <th>target_components</th>\n",
       "      <th>target_type</th>\n",
       "      <th>tax_id</th>\n",
       "    </tr>\n",
       "  </thead>\n",
       "  <tbody>\n",
       "    <tr>\n",
       "      <th>0</th>\n",
       "      <td>[{'xref_id': 'P11511', 'xref_name': None, 'xre...</td>\n",
       "      <td>Homo sapiens</td>\n",
       "      <td>Cytochrome P450 19A1</td>\n",
       "      <td>20.0</td>\n",
       "      <td>False</td>\n",
       "      <td>CHEMBL1978</td>\n",
       "      <td>[{'accession': 'P11511', 'component_descriptio...</td>\n",
       "      <td>SINGLE PROTEIN</td>\n",
       "      <td>9606</td>\n",
       "    </tr>\n",
       "    <tr>\n",
       "      <th>1</th>\n",
       "      <td>[{'xref_id': 'P22443', 'xref_name': None, 'xre...</td>\n",
       "      <td>Rattus norvegicus</td>\n",
       "      <td>Cytochrome P450 19A1</td>\n",
       "      <td>20.0</td>\n",
       "      <td>False</td>\n",
       "      <td>CHEMBL3859</td>\n",
       "      <td>[{'accession': 'P22443', 'component_descriptio...</td>\n",
       "      <td>SINGLE PROTEIN</td>\n",
       "      <td>10116</td>\n",
       "    </tr>\n",
       "  </tbody>\n",
       "</table>\n",
       "</div>"
      ],
      "text/plain": [
       "                                    cross_references           organism  \\\n",
       "0  [{'xref_id': 'P11511', 'xref_name': None, 'xre...       Homo sapiens   \n",
       "1  [{'xref_id': 'P22443', 'xref_name': None, 'xre...  Rattus norvegicus   \n",
       "\n",
       "              pref_name  score  species_group_flag target_chembl_id  \\\n",
       "0  Cytochrome P450 19A1   20.0               False       CHEMBL1978   \n",
       "1  Cytochrome P450 19A1   20.0               False       CHEMBL3859   \n",
       "\n",
       "                                   target_components     target_type  tax_id  \n",
       "0  [{'accession': 'P11511', 'component_descriptio...  SINGLE PROTEIN    9606  \n",
       "1  [{'accession': 'P22443', 'component_descriptio...  SINGLE PROTEIN   10116  "
      ]
     },
     "execution_count": 43,
     "metadata": {},
     "output_type": "execute_result"
    }
   ],
   "source": [
    "target = new_client.target\n",
    "target_query = target.search('aromatase')\n",
    "targets = pd.DataFrame.from_dict(target_query)\n",
    "targets"
   ]
  },
  {
   "cell_type": "markdown",
   "metadata": {},
   "source": [
    "### select bioactivity data for 'SARS coronavirus 3C-like proteinase' (index=6)"
   ]
  },
  {
   "cell_type": "code",
   "execution_count": 7,
   "metadata": {},
   "outputs": [
    {
     "data": {
      "text/plain": [
       "'CHEMBL3927'"
      ]
     },
     "execution_count": 7,
     "metadata": {},
     "output_type": "execute_result"
    }
   ],
   "source": [
    "selected_target = targets.target_chembl_id[6]\n",
    "selected_target"
   ]
  },
  {
   "cell_type": "code",
   "execution_count": 11,
   "metadata": {},
   "outputs": [
    {
     "data": {
      "text/plain": [
       "{'action_type': None,\n",
       " 'activity_comment': None,\n",
       " 'activity_id': 1480935,\n",
       " 'activity_properties': [],\n",
       " 'assay_chembl_id': 'CHEMBL829584',\n",
       " 'assay_description': 'In vitro inhibitory concentration against SARS coronavirus main protease (SARS CoV 3C-like protease)',\n",
       " 'assay_type': 'B',\n",
       " 'assay_variant_accession': None,\n",
       " 'assay_variant_mutation': None,\n",
       " 'bao_endpoint': 'BAO_0000190',\n",
       " 'bao_format': 'BAO_0000357',\n",
       " 'bao_label': 'single protein format',\n",
       " 'canonical_smiles': 'Cc1noc(C)c1CN1C(=O)C(=O)c2cc(C#N)ccc21',\n",
       " 'data_validity_comment': None,\n",
       " 'data_validity_description': None,\n",
       " 'document_chembl_id': 'CHEMBL1139624',\n",
       " 'document_journal': 'Bioorg Med Chem Lett',\n",
       " 'document_year': 2005,\n",
       " 'ligand_efficiency': {'bei': '18.28',\n",
       "  'le': '0.33',\n",
       "  'lle': '3.25',\n",
       "  'sei': '5.90'},\n",
       " 'molecule_chembl_id': 'CHEMBL187579',\n",
       " 'molecule_pref_name': None,\n",
       " 'parent_molecule_chembl_id': 'CHEMBL187579',\n",
       " 'pchembl_value': '5.14',\n",
       " 'potential_duplicate': 0,\n",
       " 'qudt_units': 'http://www.openphacts.org/units/Nanomolar',\n",
       " 'record_id': 384103,\n",
       " 'relation': '=',\n",
       " 'src_id': 1,\n",
       " 'standard_flag': 1,\n",
       " 'standard_relation': '=',\n",
       " 'standard_text_value': None,\n",
       " 'standard_type': 'IC50',\n",
       " 'standard_units': 'nM',\n",
       " 'standard_upper_value': None,\n",
       " 'standard_value': '7200.0',\n",
       " 'target_chembl_id': 'CHEMBL3927',\n",
       " 'target_organism': 'SARS coronavirus',\n",
       " 'target_pref_name': 'SARS coronavirus 3C-like proteinase',\n",
       " 'target_tax_id': '227859',\n",
       " 'text_value': None,\n",
       " 'toid': None,\n",
       " 'type': 'IC50',\n",
       " 'units': 'uM',\n",
       " 'uo_units': 'UO_0000065',\n",
       " 'upper_value': None,\n",
       " 'value': '7.2'}"
      ]
     },
     "execution_count": 11,
     "metadata": {},
     "output_type": "execute_result"
    }
   ],
   "source": [
    "activity = new_client.activity\n",
    "res = activity.filter(target_chembl_id=selected_target).filter(standard_type='IC50')\n",
    "res[0]"
   ]
  },
  {
   "cell_type": "code",
   "execution_count": 9,
   "metadata": {},
   "outputs": [],
   "source": [
    "df = pd.DataFrame.from_dict(res)"
   ]
  },
  {
   "cell_type": "code",
   "execution_count": 17,
   "metadata": {},
   "outputs": [
    {
     "data": {
      "text/html": [
       "<div>\n",
       "<style scoped>\n",
       "    .dataframe tbody tr th:only-of-type {\n",
       "        vertical-align: middle;\n",
       "    }\n",
       "\n",
       "    .dataframe tbody tr th {\n",
       "        vertical-align: top;\n",
       "    }\n",
       "\n",
       "    .dataframe thead th {\n",
       "        text-align: right;\n",
       "    }\n",
       "</style>\n",
       "<table border=\"1\" class=\"dataframe\">\n",
       "  <thead>\n",
       "    <tr style=\"text-align: right;\">\n",
       "      <th></th>\n",
       "      <th>action_type</th>\n",
       "      <th>activity_comment</th>\n",
       "      <th>activity_id</th>\n",
       "      <th>activity_properties</th>\n",
       "      <th>assay_chembl_id</th>\n",
       "      <th>assay_description</th>\n",
       "      <th>assay_type</th>\n",
       "      <th>assay_variant_accession</th>\n",
       "      <th>assay_variant_mutation</th>\n",
       "      <th>bao_endpoint</th>\n",
       "      <th>...</th>\n",
       "      <th>target_organism</th>\n",
       "      <th>target_pref_name</th>\n",
       "      <th>target_tax_id</th>\n",
       "      <th>text_value</th>\n",
       "      <th>toid</th>\n",
       "      <th>type</th>\n",
       "      <th>units</th>\n",
       "      <th>uo_units</th>\n",
       "      <th>upper_value</th>\n",
       "      <th>value</th>\n",
       "    </tr>\n",
       "  </thead>\n",
       "  <tbody>\n",
       "    <tr>\n",
       "      <th>0</th>\n",
       "      <td>None</td>\n",
       "      <td>None</td>\n",
       "      <td>1480935</td>\n",
       "      <td>[]</td>\n",
       "      <td>CHEMBL829584</td>\n",
       "      <td>In vitro inhibitory concentration against SARS...</td>\n",
       "      <td>B</td>\n",
       "      <td>None</td>\n",
       "      <td>None</td>\n",
       "      <td>BAO_0000190</td>\n",
       "      <td>...</td>\n",
       "      <td>SARS coronavirus</td>\n",
       "      <td>SARS coronavirus 3C-like proteinase</td>\n",
       "      <td>227859</td>\n",
       "      <td>None</td>\n",
       "      <td>None</td>\n",
       "      <td>IC50</td>\n",
       "      <td>uM</td>\n",
       "      <td>UO_0000065</td>\n",
       "      <td>None</td>\n",
       "      <td>7.2</td>\n",
       "    </tr>\n",
       "    <tr>\n",
       "      <th>1</th>\n",
       "      <td>None</td>\n",
       "      <td>None</td>\n",
       "      <td>1480936</td>\n",
       "      <td>[]</td>\n",
       "      <td>CHEMBL829584</td>\n",
       "      <td>In vitro inhibitory concentration against SARS...</td>\n",
       "      <td>B</td>\n",
       "      <td>None</td>\n",
       "      <td>None</td>\n",
       "      <td>BAO_0000190</td>\n",
       "      <td>...</td>\n",
       "      <td>SARS coronavirus</td>\n",
       "      <td>SARS coronavirus 3C-like proteinase</td>\n",
       "      <td>227859</td>\n",
       "      <td>None</td>\n",
       "      <td>None</td>\n",
       "      <td>IC50</td>\n",
       "      <td>uM</td>\n",
       "      <td>UO_0000065</td>\n",
       "      <td>None</td>\n",
       "      <td>9.4</td>\n",
       "    </tr>\n",
       "    <tr>\n",
       "      <th>2</th>\n",
       "      <td>None</td>\n",
       "      <td>None</td>\n",
       "      <td>1481061</td>\n",
       "      <td>[]</td>\n",
       "      <td>CHEMBL830868</td>\n",
       "      <td>In vitro inhibitory concentration against SARS...</td>\n",
       "      <td>B</td>\n",
       "      <td>None</td>\n",
       "      <td>None</td>\n",
       "      <td>BAO_0000190</td>\n",
       "      <td>...</td>\n",
       "      <td>SARS coronavirus</td>\n",
       "      <td>SARS coronavirus 3C-like proteinase</td>\n",
       "      <td>227859</td>\n",
       "      <td>None</td>\n",
       "      <td>None</td>\n",
       "      <td>IC50</td>\n",
       "      <td>uM</td>\n",
       "      <td>UO_0000065</td>\n",
       "      <td>None</td>\n",
       "      <td>13.5</td>\n",
       "    </tr>\n",
       "  </tbody>\n",
       "</table>\n",
       "<p>3 rows × 46 columns</p>\n",
       "</div>"
      ],
      "text/plain": [
       "  action_type activity_comment  activity_id activity_properties  \\\n",
       "0        None             None      1480935                  []   \n",
       "1        None             None      1480936                  []   \n",
       "2        None             None      1481061                  []   \n",
       "\n",
       "  assay_chembl_id                                  assay_description  \\\n",
       "0    CHEMBL829584  In vitro inhibitory concentration against SARS...   \n",
       "1    CHEMBL829584  In vitro inhibitory concentration against SARS...   \n",
       "2    CHEMBL830868  In vitro inhibitory concentration against SARS...   \n",
       "\n",
       "  assay_type assay_variant_accession assay_variant_mutation bao_endpoint  ...  \\\n",
       "0          B                    None                   None  BAO_0000190  ...   \n",
       "1          B                    None                   None  BAO_0000190  ...   \n",
       "2          B                    None                   None  BAO_0000190  ...   \n",
       "\n",
       "    target_organism                     target_pref_name target_tax_id  \\\n",
       "0  SARS coronavirus  SARS coronavirus 3C-like proteinase        227859   \n",
       "1  SARS coronavirus  SARS coronavirus 3C-like proteinase        227859   \n",
       "2  SARS coronavirus  SARS coronavirus 3C-like proteinase        227859   \n",
       "\n",
       "  text_value  toid  type units    uo_units upper_value value  \n",
       "0       None  None  IC50    uM  UO_0000065        None   7.2  \n",
       "1       None  None  IC50    uM  UO_0000065        None   9.4  \n",
       "2       None  None  IC50    uM  UO_0000065        None  13.5  \n",
       "\n",
       "[3 rows x 46 columns]"
      ]
     },
     "execution_count": 17,
     "metadata": {},
     "output_type": "execute_result"
    }
   ],
   "source": [
    "df.head(3)"
   ]
  },
  {
   "cell_type": "code",
   "execution_count": 24,
   "metadata": {},
   "outputs": [
    {
     "data": {
      "text/plain": [
       "0       7200.0\n",
       "1       9400.0\n",
       "2      13500.0\n",
       "3      13110.0\n",
       "4       2000.0\n",
       "        ...   \n",
       "128    10600.0\n",
       "129    10100.0\n",
       "130    11500.0\n",
       "131    10700.0\n",
       "132    78900.0\n",
       "Name: standard_value, Length: 133, dtype: object"
      ]
     },
     "execution_count": 24,
     "metadata": {},
     "output_type": "execute_result"
    }
   ],
   "source": [
    "df['standard_value']\n",
    "# standard_value: drug potency"
   ]
  },
  {
   "cell_type": "code",
   "execution_count": 13,
   "metadata": {},
   "outputs": [
    {
     "data": {
      "text/plain": [
       "array(['IC50'], dtype=object)"
      ]
     },
     "execution_count": 13,
     "metadata": {},
     "output_type": "execute_result"
    }
   ],
   "source": [
    "df.standard_type.unique() #check elements of specific column"
   ]
  },
  {
   "cell_type": "code",
   "execution_count": 18,
   "metadata": {},
   "outputs": [],
   "source": [
    "df.to_csv('bioactivity_data.csv', index=False)"
   ]
  },
  {
   "cell_type": "markdown",
   "metadata": {},
   "source": [
    "### handling missing data"
   ]
  },
  {
   "cell_type": "code",
   "execution_count": 21,
   "metadata": {},
   "outputs": [
    {
     "data": {
      "text/plain": [
       "True"
      ]
     },
     "execution_count": 21,
     "metadata": {},
     "output_type": "execute_result"
    }
   ],
   "source": [
    "all(df.standard_value.notna())"
   ]
  },
  {
   "cell_type": "code",
   "execution_count": 22,
   "metadata": {},
   "outputs": [],
   "source": [
    "df2 = df[df.standard_value.notna()]"
   ]
  },
  {
   "cell_type": "markdown",
   "metadata": {},
   "source": [
    "no missing data"
   ]
  },
  {
   "cell_type": "markdown",
   "metadata": {},
   "source": [
    "### data preprocessing  \n",
    "- data is in IC50 unit.\n",
    "- value less than 1000nM: active\n",
    "- value greater than 10000 nM: inactive\n",
    "- between 1000 nM and 10000 nM:  intermediate"
   ]
  },
  {
   "cell_type": "code",
   "execution_count": 26,
   "metadata": {},
   "outputs": [],
   "source": [
    "bioactivity_class = []\n",
    "for value in df2.standard_value:\n",
    "    value = float(value)\n",
    "    if value <= 1000:\n",
    "        bioactivity_class.append('active')\n",
    "    elif value >= 10000:\n",
    "        bioactivity_class.append('inactive')\n",
    "    else:\n",
    "        bioactivity_class.append('intermediate')"
   ]
  },
  {
   "cell_type": "code",
   "execution_count": 39,
   "metadata": {},
   "outputs": [],
   "source": [
    "ids = [id for id in df2.molecule_chembl_id]\n",
    "smiles = [smile for smile in df2.canonical_smiles]\n",
    "values = [value for value in df2.standard_value]"
   ]
  },
  {
   "cell_type": "markdown",
   "metadata": {},
   "source": [
    "construct new dataframe for analysis"
   ]
  },
  {
   "cell_type": "code",
   "execution_count": 41,
   "metadata": {},
   "outputs": [
    {
     "data": {
      "text/html": [
       "<div>\n",
       "<style scoped>\n",
       "    .dataframe tbody tr th:only-of-type {\n",
       "        vertical-align: middle;\n",
       "    }\n",
       "\n",
       "    .dataframe tbody tr th {\n",
       "        vertical-align: top;\n",
       "    }\n",
       "\n",
       "    .dataframe thead th {\n",
       "        text-align: right;\n",
       "    }\n",
       "</style>\n",
       "<table border=\"1\" class=\"dataframe\">\n",
       "  <thead>\n",
       "    <tr style=\"text-align: right;\">\n",
       "      <th></th>\n",
       "      <th>molecule_chembl_id</th>\n",
       "      <th>canonical_smiles</th>\n",
       "      <th>bioactivity_class</th>\n",
       "      <th>standard_value</th>\n",
       "    </tr>\n",
       "  </thead>\n",
       "  <tbody>\n",
       "    <tr>\n",
       "      <th>0</th>\n",
       "      <td>CHEMBL187579</td>\n",
       "      <td>Cc1noc(C)c1CN1C(=O)C(=O)c2cc(C#N)ccc21</td>\n",
       "      <td>intermediate</td>\n",
       "      <td>7200.0</td>\n",
       "    </tr>\n",
       "    <tr>\n",
       "      <th>1</th>\n",
       "      <td>CHEMBL188487</td>\n",
       "      <td>O=C1C(=O)N(Cc2ccc(F)cc2Cl)c2ccc(I)cc21</td>\n",
       "      <td>intermediate</td>\n",
       "      <td>9400.0</td>\n",
       "    </tr>\n",
       "    <tr>\n",
       "      <th>2</th>\n",
       "      <td>CHEMBL185698</td>\n",
       "      <td>O=C1C(=O)N(CC2COc3ccccc3O2)c2ccc(I)cc21</td>\n",
       "      <td>inactive</td>\n",
       "      <td>13500.0</td>\n",
       "    </tr>\n",
       "    <tr>\n",
       "      <th>3</th>\n",
       "      <td>CHEMBL426082</td>\n",
       "      <td>O=C1C(=O)N(Cc2cc3ccccc3s2)c2ccccc21</td>\n",
       "      <td>inactive</td>\n",
       "      <td>13110.0</td>\n",
       "    </tr>\n",
       "    <tr>\n",
       "      <th>4</th>\n",
       "      <td>CHEMBL187717</td>\n",
       "      <td>O=C1C(=O)N(Cc2cc3ccccc3s2)c2c1cccc2[N+](=O)[O-]</td>\n",
       "      <td>intermediate</td>\n",
       "      <td>2000.0</td>\n",
       "    </tr>\n",
       "    <tr>\n",
       "      <th>...</th>\n",
       "      <td>...</td>\n",
       "      <td>...</td>\n",
       "      <td>...</td>\n",
       "      <td>...</td>\n",
       "    </tr>\n",
       "    <tr>\n",
       "      <th>128</th>\n",
       "      <td>CHEMBL2146517</td>\n",
       "      <td>COC(=O)[C@@]1(C)CCCc2c1ccc1c2C(=O)C(=O)c2c(C)c...</td>\n",
       "      <td>inactive</td>\n",
       "      <td>10600.0</td>\n",
       "    </tr>\n",
       "    <tr>\n",
       "      <th>129</th>\n",
       "      <td>CHEMBL187460</td>\n",
       "      <td>C[C@H]1COC2=C1C(=O)C(=O)c1c2ccc2c1CCCC2(C)C</td>\n",
       "      <td>inactive</td>\n",
       "      <td>10100.0</td>\n",
       "    </tr>\n",
       "    <tr>\n",
       "      <th>130</th>\n",
       "      <td>CHEMBL363535</td>\n",
       "      <td>Cc1coc2c1C(=O)C(=O)c1c-2ccc2c(C)cccc12</td>\n",
       "      <td>inactive</td>\n",
       "      <td>11500.0</td>\n",
       "    </tr>\n",
       "    <tr>\n",
       "      <th>131</th>\n",
       "      <td>CHEMBL227075</td>\n",
       "      <td>Cc1cccc2c3c(ccc12)C1=C(C(=O)C3=O)[C@@H](C)CO1</td>\n",
       "      <td>inactive</td>\n",
       "      <td>10700.0</td>\n",
       "    </tr>\n",
       "    <tr>\n",
       "      <th>132</th>\n",
       "      <td>CHEMBL45830</td>\n",
       "      <td>CC(C)C1=Cc2ccc3c(c2C(=O)C1=O)CCCC3(C)C</td>\n",
       "      <td>inactive</td>\n",
       "      <td>78900.0</td>\n",
       "    </tr>\n",
       "  </tbody>\n",
       "</table>\n",
       "<p>133 rows × 4 columns</p>\n",
       "</div>"
      ],
      "text/plain": [
       "    molecule_chembl_id                                   canonical_smiles  \\\n",
       "0         CHEMBL187579             Cc1noc(C)c1CN1C(=O)C(=O)c2cc(C#N)ccc21   \n",
       "1         CHEMBL188487             O=C1C(=O)N(Cc2ccc(F)cc2Cl)c2ccc(I)cc21   \n",
       "2         CHEMBL185698            O=C1C(=O)N(CC2COc3ccccc3O2)c2ccc(I)cc21   \n",
       "3         CHEMBL426082                O=C1C(=O)N(Cc2cc3ccccc3s2)c2ccccc21   \n",
       "4         CHEMBL187717    O=C1C(=O)N(Cc2cc3ccccc3s2)c2c1cccc2[N+](=O)[O-]   \n",
       "..                 ...                                                ...   \n",
       "128      CHEMBL2146517  COC(=O)[C@@]1(C)CCCc2c1ccc1c2C(=O)C(=O)c2c(C)c...   \n",
       "129       CHEMBL187460        C[C@H]1COC2=C1C(=O)C(=O)c1c2ccc2c1CCCC2(C)C   \n",
       "130       CHEMBL363535             Cc1coc2c1C(=O)C(=O)c1c-2ccc2c(C)cccc12   \n",
       "131       CHEMBL227075      Cc1cccc2c3c(ccc12)C1=C(C(=O)C3=O)[C@@H](C)CO1   \n",
       "132        CHEMBL45830             CC(C)C1=Cc2ccc3c(c2C(=O)C1=O)CCCC3(C)C   \n",
       "\n",
       "    bioactivity_class standard_value  \n",
       "0        intermediate         7200.0  \n",
       "1        intermediate         9400.0  \n",
       "2            inactive        13500.0  \n",
       "3            inactive        13110.0  \n",
       "4        intermediate         2000.0  \n",
       "..                ...            ...  \n",
       "128          inactive        10600.0  \n",
       "129          inactive        10100.0  \n",
       "130          inactive        11500.0  \n",
       "131          inactive        10700.0  \n",
       "132          inactive        78900.0  \n",
       "\n",
       "[133 rows x 4 columns]"
      ]
     },
     "execution_count": 41,
     "metadata": {},
     "output_type": "execute_result"
    }
   ],
   "source": [
    "datas = {'molecule_chembl_id': ids,\n",
    "         'canonical_smiles': smiles,\n",
    "         'bioactivity_class': bioactivity_class,\n",
    "         'standard_value': values} \n",
    "    \n",
    "df3 = pd.DataFrame(datas)\n",
    "df3"
   ]
  },
  {
   "cell_type": "code",
   "execution_count": 42,
   "metadata": {},
   "outputs": [],
   "source": [
    "df3.to_csv('bioactivity_preprocessed_data.csv', index=False)"
   ]
  }
 ],
 "metadata": {
  "kernelspec": {
   "display_name": "Python 3",
   "language": "python",
   "name": "python3"
  },
  "language_info": {
   "codemirror_mode": {
    "name": "ipython",
    "version": 3
   },
   "file_extension": ".py",
   "mimetype": "text/x-python",
   "name": "python",
   "nbconvert_exporter": "python",
   "pygments_lexer": "ipython3",
   "version": "3.10.5"
  }
 },
 "nbformat": 4,
 "nbformat_minor": 2
}
